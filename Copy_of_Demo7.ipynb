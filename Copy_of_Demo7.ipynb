{
  "cells": [
    {
      "cell_type": "markdown",
      "metadata": {
        "id": "view-in-github",
        "colab_type": "text"
      },
      "source": [
        "<a href=\"https://colab.research.google.com/github/born99/video_summarize_dsf/blob/master/Copy_of_Demo7.ipynb\" target=\"_parent\"><img src=\"https://colab.research.google.com/assets/colab-badge.svg\" alt=\"Open In Colab\"/></a>"
      ]
    },
    {
      "cell_type": "code",
      "source": [
        "from google.colab import drive \n",
        "drive.mount('/content/drive')"
      ],
      "metadata": {
        "id": "yZodKGeARJvB",
        "colab": {
          "base_uri": "https://localhost:8080/"
        },
        "outputId": "aaa29430-cc97-44bb-db66-42748c53c742"
      },
      "execution_count": 1,
      "outputs": [
        {
          "output_type": "stream",
          "name": "stdout",
          "text": [
            "Drive already mounted at /content/drive; to attempt to forcibly remount, call drive.mount(\"/content/drive\", force_remount=True).\n"
          ]
        }
      ]
    },
    {
      "cell_type": "code",
      "source": [
        "!pwd\n",
        "import os\n",
        "os.chdir('/content/drive/My Drive/video_summarize_dsf')\n",
        "\n",
        "!pip install chainer\n",
        "!pip install torch\n",
        "!pip install scikit-video"
      ],
      "metadata": {
        "id": "fZk7rFMhXQ8S",
        "colab": {
          "base_uri": "https://localhost:8080/"
        },
        "outputId": "a58f80b5-eeb5-4fde-9f9e-a8e15345440d"
      },
      "execution_count": 2,
      "outputs": [
        {
          "output_type": "stream",
          "name": "stdout",
          "text": [
            "/content\n",
            "Requirement already satisfied: chainer in /usr/local/lib/python3.7/dist-packages (7.8.1)\n",
            "Requirement already satisfied: six>=1.9.0 in /usr/local/lib/python3.7/dist-packages (from chainer) (1.15.0)\n",
            "Requirement already satisfied: numpy>=1.9.0 in /usr/local/lib/python3.7/dist-packages (from chainer) (1.21.5)\n",
            "Requirement already satisfied: protobuf>=3.0.0 in /usr/local/lib/python3.7/dist-packages (from chainer) (3.17.3)\n",
            "Requirement already satisfied: setuptools in /usr/local/lib/python3.7/dist-packages (from chainer) (57.4.0)\n",
            "Requirement already satisfied: filelock in /usr/local/lib/python3.7/dist-packages (from chainer) (3.6.0)\n",
            "Requirement already satisfied: typing-extensions in /usr/local/lib/python3.7/dist-packages (from chainer) (3.10.0.2)\n",
            "Requirement already satisfied: torch in /usr/local/lib/python3.7/dist-packages (1.10.0+cu111)\n",
            "Requirement already satisfied: typing-extensions in /usr/local/lib/python3.7/dist-packages (from torch) (3.10.0.2)\n",
            "Requirement already satisfied: scikit-video in /usr/local/lib/python3.7/dist-packages (1.1.11)\n",
            "Requirement already satisfied: pillow in /usr/local/lib/python3.7/dist-packages (from scikit-video) (7.1.2)\n",
            "Requirement already satisfied: numpy in /usr/local/lib/python3.7/dist-packages (from scikit-video) (1.21.5)\n",
            "Requirement already satisfied: scipy in /usr/local/lib/python3.7/dist-packages (from scikit-video) (1.4.1)\n"
          ]
        }
      ]
    },
    {
      "cell_type": "code",
      "execution_count": 3,
      "metadata": {
        "collapsed": true,
        "id": "5tlK2quePxn-",
        "colab": {
          "base_uri": "https://localhost:8080/"
        },
        "outputId": "4f5cb12d-943f-45e2-a9ca-6d38ebb5cbec"
      },
      "outputs": [
        {
          "output_type": "stream",
          "name": "stderr",
          "text": [
            "/usr/local/lib/python3.7/dist-packages/chainer/_environment_check.py:75: UserWarning: \n",
            "--------------------------------------------------------------------------------\n",
            "CuPy (cupy-cuda111) version 9.4.0 may not be compatible with this version of Chainer.\n",
            "Please consider installing the supported version by running:\n",
            "  $ pip install 'cupy-cuda111>=7.7.0,<8.0.0'\n",
            "\n",
            "See the following page for more details:\n",
            "  https://docs.cupy.dev/en/latest/install.html\n",
            "--------------------------------------------------------------------------------\n",
            "\n",
            "  requirement=requirement, help=help))\n"
          ]
        }
      ],
      "source": [
        "import numpy as np\n",
        "import os\n",
        "import json\n",
        "\n",
        "from func.nets import vid_enc, vid_enc_vgg19\n",
        "from chainer import serializers\n",
        "\n",
        "import sys\n",
        "sys.path.append('script/')\n",
        "from summarize import get_flabel\n",
        "from func.sampling.vsum import VSUM\n",
        "\n",
        "import chainer\n",
        "from chainer import configuration\n",
        "\n",
        "import torch"
      ]
    },
    {
      "cell_type": "code",
      "execution_count": 4,
      "metadata": {
        "collapsed": true,
        "id": "o77knqlVPxoH",
        "colab": {
          "base_uri": "https://localhost:8080/"
        },
        "outputId": "eb858b40-6c35-4ae2-9356-fcab021f364e"
      },
      "outputs": [
        {
          "output_type": "stream",
          "name": "stdout",
          "text": [
            "model: <class 'func.nets.vid_enc.Model'>\n",
            "model: <class 'func.nets.vid_enc.Model'>\n"
          ]
        }
      ],
      "source": [
        "# settings\n",
        "feat_type = 'smt_feat' # smt_feat (proposed) or vgg\n",
        "\n",
        "# load embedding model\n",
        "if feat_type == 'smt_feat':\n",
        "    model = vid_enc.Model()\n",
        "    print('model:', type(model))\n",
        "    serializers.load_npz('data/trained_model/model_par', model)\n",
        "    print('model:', type(model))\n",
        "elif feat_type == 'vgg':\n",
        "    model = vid_enc_vgg19.Model()\n",
        "    print('model:', type(model))\n",
        "else:\n",
        "    raise RuntimeError('[invalid feat_type] use smt_feat or vgg')"
      ]
    },
    {
      "cell_type": "code",
      "execution_count": 5,
      "metadata": {
        "id": "5rDPSGINPxoJ",
        "colab": {
          "base_uri": "https://localhost:8080/"
        },
        "outputId": "36495b1b-020c-4c99-f467-26c9bfe0f2ae"
      },
      "outputs": [
        {
          "output_type": "stream",
          "name": "stdout",
          "text": [
            "save to:  results/summe/smt_feat/\n"
          ]
        }
      ],
      "source": [
        "# prepair output dir\n",
        "d_name = 'summe'\n",
        "dataset_root = 'data/{}/'.format(d_name)\n",
        "out_dir = 'results/{:}/{:}/'.format(d_name, feat_type)\n",
        "print('save to: ', out_dir)\n",
        "\n",
        "if not os.path.exists(out_dir):\n",
        "    os.makedirs(out_dir)"
      ]
    },
    {
      "cell_type": "code",
      "execution_count": 6,
      "metadata": {
        "id": "C2X9nj-HPxoL",
        "colab": {
          "base_uri": "https://localhost:8080/"
        },
        "outputId": "9122e5d1-8b1a-4af8-ac95-15ed286e750c"
      },
      "outputs": [
        {
          "output_type": "stream",
          "name": "stdout",
          "text": [
            "Video list:\n",
            "- Cooking\n"
          ]
        }
      ],
      "source": [
        "# load dataset metadata\n",
        "dataset = json.load(open(dataset_root + 'dataset.json'))\n",
        "video_id = [d['videoID'] for d in dataset]\n",
        "\n",
        "print('Video list:')\n",
        "for vi in video_id:\n",
        "    print('-', vi)"
      ]
    },
    {
      "cell_type": "code",
      "execution_count": 7,
      "metadata": {
        "id": "Oe7lL2bvPxoM",
        "colab": {
          "base_uri": "https://localhost:8080/"
        },
        "outputId": "a74115cb-f97c-4301-bb2b-191e313b0d8d"
      },
      "outputs": [
        {
          "output_type": "stream",
          "name": "stdout",
          "text": [
            "ロードした動画のID: Cooking\n",
            "budget: 2\n",
            "feat: <class 'numpy.ndarray'>\n"
          ]
        }
      ],
      "source": [
        "# summarize video\n",
        "v_id = 'Cooking'\n",
        "\n",
        "with configuration.using_config('train', False):\n",
        "    with chainer.no_backprop_mode():\n",
        "        vsum = VSUM(v_id, model, dataset=d_name, seg_l=5)\n",
        "\n",
        "_, frames, _ = vsum.summarizeRep(seg_l=5, weights=[1.0, 0.0])\n",
        "\n",
        "# get 0/1 label for each frame\n",
        "fps = vsum.dataset.data['fps']\n",
        "fnum = vsum.dataset.data['fnum']\n",
        "label = get_flabel(frames, fnum, fps, seg_l=5)"
      ]
    },
    {
      "cell_type": "code",
      "source": [
        "!pwd\n",
        "!python script/summarize.py\n",
        "!python script/evaluate.py results/summe/smt_feat"
      ],
      "metadata": {
        "id": "a0HJUvEYtaqZ",
        "colab": {
          "base_uri": "https://localhost:8080/"
        },
        "outputId": "444cca89-e041-4a5f-b6ea-51488e96b2aa"
      },
      "execution_count": 8,
      "outputs": [
        {
          "output_type": "stream",
          "name": "stdout",
          "text": [
            "/content/drive/My Drive/video_summarize_dsf\n",
            "INFO:numexpr.utils:NumExpr defaulting to 2 threads.\n",
            "/usr/local/lib/python3.7/dist-packages/chainer/_environment_check.py:75: UserWarning: \n",
            "--------------------------------------------------------------------------------\n",
            "CuPy (cupy-cuda111) version 9.4.0 may not be compatible with this version of Chainer.\n",
            "Please consider installing the supported version by running:\n",
            "  $ pip install 'cupy-cuda111>=7.7.0,<8.0.0'\n",
            "\n",
            "See the following page for more details:\n",
            "  https://docs.cupy.dev/en/latest/install.html\n",
            "--------------------------------------------------------------------------------\n",
            "\n",
            "  requirement=requirement, help=help))\n",
            "resultの保存先: results/summe/smt_feat/\n",
            "Traceback (most recent call last):\n",
            "  File \"script/summarize.py\", line 54, in <module>\n",
            "    torch.load_npz('./data/trained_model/model_par', model)\n",
            "AttributeError: module 'torch' has no attribute 'load_npz'\n",
            "Traceback (most recent call last):\n",
            "  File \"script/evaluate.py\", line 93, in <module>\n",
            "    res = eval_summary(dataset_name, res_base, gt_base)\n",
            "  File \"script/evaluate.py\", line 36, in eval_summary\n",
            "    pred_summary = np.load(res_base + '%s.npy' % v_id)\n",
            "  File \"/usr/local/lib/python3.7/dist-packages/numpy/lib/npyio.py\", line 417, in load\n",
            "    fid = stack.enter_context(open(os_fspath(file), \"rb\"))\n",
            "FileNotFoundError: [Errno 2] No such file or directory: 'results/summe/smt_feat/Cooking.npy'\n"
          ]
        }
      ]
    },
    {
      "cell_type": "code",
      "execution_count": 9,
      "metadata": {
        "id": "kxhFESejPxoN",
        "colab": {
          "base_uri": "https://localhost:8080/",
          "height": 380
        },
        "outputId": "acc7de47-51de-4fb2-b066-01d1177f4143"
      },
      "outputs": [
        {
          "output_type": "error",
          "ename": "FileNotFoundError",
          "evalue": "ignored",
          "traceback": [
            "\u001b[0;31m---------------------------------------------------------------------------\u001b[0m",
            "\u001b[0;31mFileNotFoundError\u001b[0m                         Traceback (most recent call last)",
            "\u001b[0;32m<ipython-input-9-689be88a8fe7>\u001b[0m in \u001b[0;36m<module>\u001b[0;34m()\u001b[0m\n\u001b[1;32m      5\u001b[0m \u001b[0mvideo_path\u001b[0m \u001b[0;34m=\u001b[0m \u001b[0;34m'data/summe/video.mp4'\u001b[0m\u001b[0;34m\u001b[0m\u001b[0;34m\u001b[0m\u001b[0m\n\u001b[1;32m      6\u001b[0m \u001b[0;34m\u001b[0m\u001b[0m\n\u001b[0;32m----> 7\u001b[0;31m \u001b[0mvideo_data\u001b[0m \u001b[0;34m=\u001b[0m \u001b[0mvread\u001b[0m\u001b[0;34m(\u001b[0m\u001b[0mvideo_path\u001b[0m\u001b[0;34m)\u001b[0m\u001b[0;34m\u001b[0m\u001b[0;34m\u001b[0m\u001b[0m\n\u001b[0m\u001b[1;32m      8\u001b[0m \u001b[0msum_vid\u001b[0m \u001b[0;34m=\u001b[0m \u001b[0mvideo_data\u001b[0m\u001b[0;34m[\u001b[0m\u001b[0mlabel\u001b[0m\u001b[0;34m.\u001b[0m\u001b[0mravel\u001b[0m\u001b[0;34m(\u001b[0m\u001b[0;34m)\u001b[0m\u001b[0;34m.\u001b[0m\u001b[0mastype\u001b[0m\u001b[0;34m(\u001b[0m\u001b[0mnp\u001b[0m\u001b[0;34m.\u001b[0m\u001b[0mbool\u001b[0m\u001b[0;34m)\u001b[0m\u001b[0;34m,\u001b[0m \u001b[0;34m:\u001b[0m\u001b[0;34m,\u001b[0m\u001b[0;34m:\u001b[0m\u001b[0;34m,\u001b[0m\u001b[0;34m:\u001b[0m\u001b[0;34m]\u001b[0m\u001b[0;34m\u001b[0m\u001b[0;34m\u001b[0m\u001b[0m\n\u001b[1;32m      9\u001b[0m \u001b[0;34m\u001b[0m\u001b[0m\n",
            "\u001b[0;32m/usr/local/lib/python3.7/dist-packages/skvideo/io/io.py\u001b[0m in \u001b[0;36mvread\u001b[0;34m(fname, height, width, num_frames, as_grey, inputdict, outputdict, backend, verbosity)\u001b[0m\n\u001b[1;32m    142\u001b[0m             \u001b[0moutputdict\u001b[0m\u001b[0;34m[\u001b[0m\u001b[0;34m'-pix_fmt'\u001b[0m\u001b[0;34m]\u001b[0m \u001b[0;34m=\u001b[0m \u001b[0;34m'gray'\u001b[0m\u001b[0;34m\u001b[0m\u001b[0;34m\u001b[0m\u001b[0m\n\u001b[1;32m    143\u001b[0m \u001b[0;34m\u001b[0m\u001b[0m\n\u001b[0;32m--> 144\u001b[0;31m         \u001b[0mreader\u001b[0m \u001b[0;34m=\u001b[0m \u001b[0mFFmpegReader\u001b[0m\u001b[0;34m(\u001b[0m\u001b[0mfname\u001b[0m\u001b[0;34m,\u001b[0m \u001b[0minputdict\u001b[0m\u001b[0;34m=\u001b[0m\u001b[0minputdict\u001b[0m\u001b[0;34m,\u001b[0m \u001b[0moutputdict\u001b[0m\u001b[0;34m=\u001b[0m\u001b[0moutputdict\u001b[0m\u001b[0;34m,\u001b[0m \u001b[0mverbosity\u001b[0m\u001b[0;34m=\u001b[0m\u001b[0mverbosity\u001b[0m\u001b[0;34m)\u001b[0m\u001b[0;34m\u001b[0m\u001b[0;34m\u001b[0m\u001b[0m\n\u001b[0m\u001b[1;32m    145\u001b[0m         \u001b[0mT\u001b[0m\u001b[0;34m,\u001b[0m \u001b[0mM\u001b[0m\u001b[0;34m,\u001b[0m \u001b[0mN\u001b[0m\u001b[0;34m,\u001b[0m \u001b[0mC\u001b[0m \u001b[0;34m=\u001b[0m \u001b[0mreader\u001b[0m\u001b[0;34m.\u001b[0m\u001b[0mgetShape\u001b[0m\u001b[0;34m(\u001b[0m\u001b[0;34m)\u001b[0m\u001b[0;34m\u001b[0m\u001b[0;34m\u001b[0m\u001b[0m\n\u001b[1;32m    146\u001b[0m \u001b[0;34m\u001b[0m\u001b[0m\n",
            "\u001b[0;32m/usr/local/lib/python3.7/dist-packages/skvideo/io/ffmpeg.py\u001b[0m in \u001b[0;36m__init__\u001b[0;34m(self, *args, **kwargs)\u001b[0m\n\u001b[1;32m     42\u001b[0m     \u001b[0;32mdef\u001b[0m \u001b[0m__init__\u001b[0m\u001b[0;34m(\u001b[0m\u001b[0mself\u001b[0m\u001b[0;34m,\u001b[0m \u001b[0;34m*\u001b[0m\u001b[0margs\u001b[0m\u001b[0;34m,\u001b[0m \u001b[0;34m**\u001b[0m\u001b[0mkwargs\u001b[0m\u001b[0;34m)\u001b[0m\u001b[0;34m:\u001b[0m\u001b[0;34m\u001b[0m\u001b[0;34m\u001b[0m\u001b[0m\n\u001b[1;32m     43\u001b[0m         \u001b[0;32massert\u001b[0m \u001b[0m_HAS_FFMPEG\u001b[0m\u001b[0;34m,\u001b[0m \u001b[0;34m\"Cannot find installation of real FFmpeg (which comes with ffprobe).\"\u001b[0m\u001b[0;34m\u001b[0m\u001b[0;34m\u001b[0m\u001b[0m\n\u001b[0;32m---> 44\u001b[0;31m         \u001b[0msuper\u001b[0m\u001b[0;34m(\u001b[0m\u001b[0mFFmpegReader\u001b[0m\u001b[0;34m,\u001b[0m\u001b[0mself\u001b[0m\u001b[0;34m)\u001b[0m\u001b[0;34m.\u001b[0m\u001b[0m__init__\u001b[0m\u001b[0;34m(\u001b[0m\u001b[0;34m*\u001b[0m\u001b[0margs\u001b[0m\u001b[0;34m,\u001b[0m \u001b[0;34m**\u001b[0m\u001b[0mkwargs\u001b[0m\u001b[0;34m)\u001b[0m\u001b[0;34m\u001b[0m\u001b[0;34m\u001b[0m\u001b[0m\n\u001b[0m\u001b[1;32m     45\u001b[0m \u001b[0;34m\u001b[0m\u001b[0m\n\u001b[1;32m     46\u001b[0m     \u001b[0;32mdef\u001b[0m \u001b[0m_createProcess\u001b[0m\u001b[0;34m(\u001b[0m\u001b[0mself\u001b[0m\u001b[0;34m,\u001b[0m \u001b[0minputdict\u001b[0m\u001b[0;34m,\u001b[0m \u001b[0moutputdict\u001b[0m\u001b[0;34m,\u001b[0m \u001b[0mverbosity\u001b[0m\u001b[0;34m)\u001b[0m\u001b[0;34m:\u001b[0m\u001b[0;34m\u001b[0m\u001b[0;34m\u001b[0m\u001b[0m\n",
            "\u001b[0;32m/usr/local/lib/python3.7/dist-packages/skvideo/io/abstract.py\u001b[0m in \u001b[0;36m__init__\u001b[0;34m(self, filename, inputdict, outputdict, verbosity)\u001b[0m\n\u001b[1;32m     67\u001b[0m         \u001b[0;31m# General information\u001b[0m\u001b[0;34m\u001b[0m\u001b[0;34m\u001b[0m\u001b[0;34m\u001b[0m\u001b[0m\n\u001b[1;32m     68\u001b[0m         \u001b[0m_\u001b[0m\u001b[0;34m,\u001b[0m \u001b[0mself\u001b[0m\u001b[0;34m.\u001b[0m\u001b[0mextension\u001b[0m \u001b[0;34m=\u001b[0m \u001b[0mos\u001b[0m\u001b[0;34m.\u001b[0m\u001b[0mpath\u001b[0m\u001b[0;34m.\u001b[0m\u001b[0msplitext\u001b[0m\u001b[0;34m(\u001b[0m\u001b[0mfilename\u001b[0m\u001b[0;34m)\u001b[0m\u001b[0;34m\u001b[0m\u001b[0;34m\u001b[0m\u001b[0m\n\u001b[0;32m---> 69\u001b[0;31m         \u001b[0mself\u001b[0m\u001b[0;34m.\u001b[0m\u001b[0msize\u001b[0m \u001b[0;34m=\u001b[0m \u001b[0mos\u001b[0m\u001b[0;34m.\u001b[0m\u001b[0mpath\u001b[0m\u001b[0;34m.\u001b[0m\u001b[0mgetsize\u001b[0m\u001b[0;34m(\u001b[0m\u001b[0mfilename\u001b[0m\u001b[0;34m)\u001b[0m\u001b[0;34m\u001b[0m\u001b[0;34m\u001b[0m\u001b[0m\n\u001b[0m\u001b[1;32m     70\u001b[0m         \u001b[0mself\u001b[0m\u001b[0;34m.\u001b[0m\u001b[0mprobeInfo\u001b[0m \u001b[0;34m=\u001b[0m \u001b[0mself\u001b[0m\u001b[0;34m.\u001b[0m\u001b[0m_probe\u001b[0m\u001b[0;34m(\u001b[0m\u001b[0;34m)\u001b[0m\u001b[0;34m\u001b[0m\u001b[0;34m\u001b[0m\u001b[0m\n\u001b[1;32m     71\u001b[0m \u001b[0;34m\u001b[0m\u001b[0m\n",
            "\u001b[0;32m/usr/lib/python3.7/genericpath.py\u001b[0m in \u001b[0;36mgetsize\u001b[0;34m(filename)\u001b[0m\n\u001b[1;32m     48\u001b[0m \u001b[0;32mdef\u001b[0m \u001b[0mgetsize\u001b[0m\u001b[0;34m(\u001b[0m\u001b[0mfilename\u001b[0m\u001b[0;34m)\u001b[0m\u001b[0;34m:\u001b[0m\u001b[0;34m\u001b[0m\u001b[0;34m\u001b[0m\u001b[0m\n\u001b[1;32m     49\u001b[0m     \u001b[0;34m\"\"\"Return the size of a file, reported by os.stat().\"\"\"\u001b[0m\u001b[0;34m\u001b[0m\u001b[0;34m\u001b[0m\u001b[0m\n\u001b[0;32m---> 50\u001b[0;31m     \u001b[0;32mreturn\u001b[0m \u001b[0mos\u001b[0m\u001b[0;34m.\u001b[0m\u001b[0mstat\u001b[0m\u001b[0;34m(\u001b[0m\u001b[0mfilename\u001b[0m\u001b[0;34m)\u001b[0m\u001b[0;34m.\u001b[0m\u001b[0mst_size\u001b[0m\u001b[0;34m\u001b[0m\u001b[0;34m\u001b[0m\u001b[0m\n\u001b[0m\u001b[1;32m     51\u001b[0m \u001b[0;34m\u001b[0m\u001b[0m\n\u001b[1;32m     52\u001b[0m \u001b[0;34m\u001b[0m\u001b[0m\n",
            "\u001b[0;31mFileNotFoundError\u001b[0m: [Errno 2] No such file or directory: 'data/summe/video.mp4'"
          ]
        }
      ],
      "source": [
        "# write summarized video\n",
        "from skvideo.io import vread, vwrite\n",
        "\n",
        "# video_path = 'video_summarize_dsf/data/summe/%s.webm' % v_id\n",
        "video_path = 'data/summe/video.mp4'\n",
        "\n",
        "video_data = vread(video_path)\n",
        "sum_vid = video_data[label.ravel().astype(np.bool), :,:,:]\n",
        "\n",
        "print ('writing video to', 'sum_%s.mp4'%v_id)\n",
        "vwrite('sum_%s.mp4'%v_id, sum_vid)"
      ]
    }
  ],
  "metadata": {
    "anaconda-cloud": {},
    "kernelspec": {
      "display_name": "Python 3",
      "name": "python3"
    },
    "language_info": {
      "name": "python"
    },
    "colab": {
      "name": "Copy_of_Demo7.ipynb",
      "provenance": [],
      "collapsed_sections": [],
      "include_colab_link": true
    },
    "accelerator": "GPU"
  },
  "nbformat": 4,
  "nbformat_minor": 0
}