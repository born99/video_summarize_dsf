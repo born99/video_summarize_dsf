{
  "cells": [
    {
      "cell_type": "markdown",
      "metadata": {
        "id": "view-in-github",
        "colab_type": "text"
      },
      "source": [
        "<a href=\"https://colab.research.google.com/github/dvqthinh25111999/video_summarize_dsf/blob/master/Copy_of_Demo.ipynb\" target=\"_parent\"><img src=\"https://colab.research.google.com/assets/colab-badge.svg\" alt=\"Open In Colab\"/></a>"
      ]
    },
    {
      "cell_type": "code",
      "source": [
        "from google.colab import drive \n",
        "drive.mount('/content/drive')"
      ],
      "metadata": {
        "colab": {
          "base_uri": "https://localhost:8080/"
        },
        "id": "yZodKGeARJvB",
        "outputId": "8e217a2f-bdd7-4ea8-ff79-19b3b9213d61"
      },
      "execution_count": 1,
      "outputs": [
        {
          "output_type": "stream",
          "name": "stdout",
          "text": [
            "Mounted at /content/drive\n"
          ]
        }
      ]
    },
    {
      "cell_type": "code",
      "source": [
        "!pwd\n",
        "import os\n",
        "os.chdir('/content/drive/My Drive/video_summarize_dsf')\n",
        "\n",
        "!pip install chainer\n",
        "!pip install torch"
      ],
      "metadata": {
        "colab": {
          "base_uri": "https://localhost:8080/"
        },
        "id": "fZk7rFMhXQ8S",
        "outputId": "33fa1678-9ec9-4ac5-e83f-351498a61340"
      },
      "execution_count": 2,
      "outputs": [
        {
          "output_type": "stream",
          "name": "stdout",
          "text": [
            "/content\n",
            "Collecting chainer\n",
            "  Downloading chainer-7.8.1.tar.gz (1.0 MB)\n",
            "\u001b[K     |████████████████████████████████| 1.0 MB 5.0 MB/s \n",
            "\u001b[?25hRequirement already satisfied: setuptools in /usr/local/lib/python3.7/dist-packages (from chainer) (57.4.0)\n",
            "Requirement already satisfied: typing_extensions in /usr/local/lib/python3.7/dist-packages (from chainer) (3.10.0.2)\n",
            "Requirement already satisfied: filelock in /usr/local/lib/python3.7/dist-packages (from chainer) (3.4.2)\n",
            "Requirement already satisfied: numpy>=1.9.0 in /usr/local/lib/python3.7/dist-packages (from chainer) (1.19.5)\n",
            "Requirement already satisfied: protobuf>=3.0.0 in /usr/local/lib/python3.7/dist-packages (from chainer) (3.17.3)\n",
            "Requirement already satisfied: six>=1.9.0 in /usr/local/lib/python3.7/dist-packages (from chainer) (1.15.0)\n",
            "Building wheels for collected packages: chainer\n",
            "  Building wheel for chainer (setup.py) ... \u001b[?25l\u001b[?25hdone\n",
            "  Created wheel for chainer: filename=chainer-7.8.1-py3-none-any.whl size=967740 sha256=3db4383ce0378cfc5fc07ee7e1bfaad801a108ae719e7d421ac6ac160b092f1e\n",
            "  Stored in directory: /root/.cache/pip/wheels/c8/6a/6f/fd563166cc597e5206e375ea074ea836e5db5dd58421215672\n",
            "Successfully built chainer\n",
            "Installing collected packages: chainer\n",
            "Successfully installed chainer-7.8.1\n",
            "Requirement already satisfied: torch in /usr/local/lib/python3.7/dist-packages (1.10.0+cu111)\n",
            "Requirement already satisfied: typing-extensions in /usr/local/lib/python3.7/dist-packages (from torch) (3.10.0.2)\n"
          ]
        }
      ]
    },
    {
      "cell_type": "code",
      "execution_count": 3,
      "metadata": {
        "collapsed": true,
        "id": "5tlK2quePxn-"
      },
      "outputs": [],
      "source": [
        "import numpy as np\n",
        "import os\n",
        "import json\n",
        "\n",
        "from func.nets import vid_enc, vid_enc_vgg19\n",
        "from chainer import serializers\n",
        "\n",
        "import sys\n",
        "sys.path.append('script/')\n",
        "from summarize import get_flabel\n",
        "from func.sampling.vsum import VSUM\n",
        "\n",
        "import chainer\n",
        "from chainer import configuration\n",
        "\n",
        "import torch"
      ]
    },
    {
      "cell_type": "code",
      "execution_count": 4,
      "metadata": {
        "collapsed": true,
        "id": "o77knqlVPxoH",
        "colab": {
          "base_uri": "https://localhost:8080/"
        },
        "outputId": "23ec596d-ed7a-4b02-aca3-a43369c5f6cb"
      },
      "outputs": [
        {
          "output_type": "stream",
          "name": "stdout",
          "text": [
            "model Model()\n"
          ]
        }
      ],
      "source": [
        "# settings\n",
        "feat_type = 'smt_feat' # smt_feat (proposed) or vgg\n",
        "\n",
        "# load embedding model\n",
        "if feat_type == 'smt_feat':\n",
        "    model = vid_enc.Model()\n",
        "    print('model', model)\n",
        "    serializers.load_npz('data/trained_model/model_par', model)\n",
        "elif feat_type == 'vgg':\n",
        "    model = vid_enc_vgg19.Model()\n",
        "else:\n",
        "    raise RuntimeError('[invalid feat_type] use smt_feat or vgg')"
      ]
    },
    {
      "cell_type": "code",
      "execution_count": 5,
      "metadata": {
        "id": "5rDPSGINPxoJ",
        "colab": {
          "base_uri": "https://localhost:8080/"
        },
        "outputId": "25aaeeac-0614-480d-e47a-9d42aa819350"
      },
      "outputs": [
        {
          "output_type": "stream",
          "name": "stdout",
          "text": [
            "save to:  results/summe/smt_feat/\n"
          ]
        }
      ],
      "source": [
        "# prepair output dir\n",
        "d_name = 'summe'\n",
        "dataset_root = 'data/{}/'.format(d_name)\n",
        "out_dir = 'results/{:}/{:}/'.format(d_name, feat_type)\n",
        "print('save to: ', out_dir)\n",
        "\n",
        "if not os.path.exists(out_dir):\n",
        "    os.makedirs(out_dir)"
      ]
    },
    {
      "cell_type": "code",
      "execution_count": 6,
      "metadata": {
        "id": "C2X9nj-HPxoL",
        "colab": {
          "base_uri": "https://localhost:8080/"
        },
        "outputId": "1bf396be-b283-4b03-f0fa-7b7adda947d8"
      },
      "outputs": [
        {
          "output_type": "stream",
          "name": "stdout",
          "text": [
            "Video list:\n",
            "- Cooking\n"
          ]
        }
      ],
      "source": [
        "# load dataset metadata\n",
        "dataset = json.load(open(dataset_root + 'dataset.json'))\n",
        "video_id = [d['videoID'] for d in dataset]\n",
        "\n",
        "print('Video list:')\n",
        "for vi in video_id:\n",
        "    print('-', vi)"
      ]
    },
    {
      "cell_type": "code",
      "execution_count": 7,
      "metadata": {
        "id": "Oe7lL2bvPxoM",
        "colab": {
          "base_uri": "https://localhost:8080/"
        },
        "outputId": "1d1f7fb3-2793-4ceb-a9b2-7b6ed7621b29"
      },
      "outputs": [
        {
          "output_type": "stream",
          "name": "stdout",
          "text": [
            "ロードした動画のID: Cooking\n",
            "budget: 2\n"
          ]
        },
        {
          "output_type": "stream",
          "name": "stderr",
          "text": [
            "/usr/local/lib/python3.7/dist-packages/torch/nn/functional.py:1795: UserWarning: nn.functional.tanh is deprecated. Use torch.tanh instead.\n",
            "  warnings.warn(\"nn.functional.tanh is deprecated. Use torch.tanh instead.\")\n"
          ]
        }
      ],
      "source": [
        "# summarize video\n",
        "v_id = 'Cooking'\n",
        "\n",
        "with configuration.using_config('train', False):\n",
        "    with chainer.no_backprop_mode():\n",
        "        vsum = VSUM(v_id, model, dataset=d_name, seg_l=5)\n",
        "\n",
        "_, frames, _ = vsum.summarizeRep(seg_l=5, weights=[1.0, 0.0])\n",
        "\n",
        "# get 0/1 label for each frame\n",
        "fps = vsum.dataset.data['fps']\n",
        "fnum = vsum.dataset.data['fnum']\n",
        "label = get_flabel(frames, fnum, fps, seg_l=5)"
      ]
    },
    {
      "cell_type": "code",
      "execution_count": 10,
      "metadata": {
        "id": "kxhFESejPxoN",
        "colab": {
          "base_uri": "https://localhost:8080/",
          "height": 374
        },
        "outputId": "23f5ebc8-18f2-447e-8e3c-b817d11268f4"
      },
      "outputs": [
        {
          "output_type": "error",
          "ename": "ModuleNotFoundError",
          "evalue": "ignored",
          "traceback": [
            "\u001b[0;31m---------------------------------------------------------------------------\u001b[0m",
            "\u001b[0;31mModuleNotFoundError\u001b[0m                       Traceback (most recent call last)",
            "\u001b[0;32m<ipython-input-10-517b2395eefe>\u001b[0m in \u001b[0;36m<module>\u001b[0;34m()\u001b[0m\n\u001b[1;32m      1\u001b[0m \u001b[0;31m# write summarized video\u001b[0m\u001b[0;34m\u001b[0m\u001b[0;34m\u001b[0m\u001b[0;34m\u001b[0m\u001b[0m\n\u001b[0;32m----> 2\u001b[0;31m \u001b[0;32mfrom\u001b[0m \u001b[0mskvideo\u001b[0m\u001b[0;34m.\u001b[0m\u001b[0mio\u001b[0m \u001b[0;32mimport\u001b[0m \u001b[0mvread\u001b[0m\u001b[0;34m,\u001b[0m \u001b[0mvwrite\u001b[0m\u001b[0;34m\u001b[0m\u001b[0;34m\u001b[0m\u001b[0m\n\u001b[0m\u001b[1;32m      3\u001b[0m \u001b[0;34m\u001b[0m\u001b[0m\n\u001b[1;32m      4\u001b[0m \u001b[0mvideo_path\u001b[0m \u001b[0;34m=\u001b[0m \u001b[0;34m'/video_summarize_dsf/data/summe/%s.webm'\u001b[0m \u001b[0;34m%\u001b[0m \u001b[0mv_id\u001b[0m\u001b[0;34m\u001b[0m\u001b[0;34m\u001b[0m\u001b[0m\n\u001b[1;32m      5\u001b[0m \u001b[0;34m\u001b[0m\u001b[0m\n",
            "\u001b[0;31mModuleNotFoundError\u001b[0m: No module named 'skvideo'",
            "",
            "\u001b[0;31m---------------------------------------------------------------------------\u001b[0;32m\nNOTE: If your import is failing due to a missing package, you can\nmanually install dependencies using either !pip or !apt.\n\nTo view examples of installing some common dependencies, click the\n\"Open Examples\" button below.\n\u001b[0;31m---------------------------------------------------------------------------\u001b[0m\n"
          ],
          "errorDetails": {
            "actions": [
              {
                "action": "open_url",
                "actionText": "Open Examples",
                "url": "/notebooks/snippets/importing_libraries.ipynb"
              }
            ]
          }
        }
      ],
      "source": [
        "# write summarized video\n",
        "from skvideo.io import vread, vwrite\n",
        "\n",
        "video_path = '/video_summarize_dsf/data/summe/%s.webm' % v_id\n",
        "\n",
        "video_data = vread(video_path)\n",
        "sum_vid = video_data[label.ravel().astype(np.bool), :,:,:]\n",
        "\n",
        "print ('writing video to', 'sum_%s.mp4'%v_id)\n",
        "vwrite('sum_%s.mp4'%v_id, sum_vid)"
      ]
    }
  ],
  "metadata": {
    "anaconda-cloud": {},
    "kernelspec": {
      "display_name": "Python 2",
      "language": "python",
      "name": "python2"
    },
    "language_info": {
      "codemirror_mode": {
        "name": "ipython",
        "version": 2
      },
      "file_extension": ".py",
      "mimetype": "text/x-python",
      "name": "python",
      "nbconvert_exporter": "python",
      "pygments_lexer": "ipython2",
      "version": "2.7.13"
    },
    "colab": {
      "name": "Copy of Demo.ipynb",
      "provenance": [],
      "collapsed_sections": [],
      "include_colab_link": true
    }
  },
  "nbformat": 4,
  "nbformat_minor": 0
}